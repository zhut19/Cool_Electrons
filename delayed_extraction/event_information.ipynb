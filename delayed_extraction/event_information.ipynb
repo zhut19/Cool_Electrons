{
 "cells": [
  {
   "cell_type": "code",
   "execution_count": 1,
   "metadata": {
    "collapsed": false,
    "deletable": true,
    "editable": true
   },
   "outputs": [],
   "source": [
    "import os, sys, io\n",
    "import numpy as np\n",
    "from multihist import Histdd, Hist1d\n",
    "import matplotlib\n",
    "from matplotlib.colors import LogNorm\n",
    "import matplotlib.pyplot as plt\n",
    "%matplotlib inline \n",
    "%config InlineBackend.figure_format = 'retina'   # enable if you have a retina display\n",
    "import pandas as pd\n",
    "from scipy.optimize import curve_fit, minimize\n",
    "pd.options.mode.chained_assignment = None        # default='warn'\n",
    "import warnings\n",
    "warnings.filterwarnings('ignore')\n",
    "\n",
    "from scipy.interpolate import interp1d, InterpolatedUnivariateSpline\n",
    "\n",
    "from numpy import sqrt, exp, pi, square\n",
    "from tqdm import tqdm\n",
    "from multiprocessing import Pool\n",
    "\n",
    "def plt_config(title = None, xbounds = None, ybounds = None, xlabel = None, ylabel = None, colorbar = False, sci = False):\n",
    "    if sci:\n",
    "        plt.ticklabel_format(style='sci', axis='x', scilimits=(0,0))\n",
    "        plt.ticklabel_format(style='sci', axis='y', scilimits=(0,0))\n",
    "    if title != None: plt.title(title)\n",
    "    if xbounds != None: plt.xlim(xbounds)\n",
    "    if ybounds != None: plt.ylim(ybounds)\n",
    "    if xlabel != None: plt.xlabel(xlabel)\n",
    "    if ylabel != None:  plt.ylabel(ylabel)\n",
    "    if isinstance(colorbar,str):\n",
    "        plt.colorbar(label = colorbar)\n",
    "    elif colorbar:\n",
    "        plt.colorbar(label = '$Number\\ of\\ Entries$')\n",
    "    else:\n",
    "        pass"
   ]
  },
  {
   "cell_type": "code",
   "execution_count": 2,
   "metadata": {
    "collapsed": false,
    "deletable": true,
    "editable": true
   },
   "outputs": [],
   "source": [
    "EFolder = '/project2/lgrandi/zhut/data/inventory/pax_v6.8.0_none_sciencerun1_datasets.pkl'\n",
    "dsets = pd.read_pickle(EFolder)"
   ]
  },
  {
   "cell_type": "code",
   "execution_count": 3,
   "metadata": {
    "collapsed": false,
    "deletable": true,
    "editable": true
   },
   "outputs": [],
   "source": [
    "from lax.lichens import sciencerun1 as sr\n",
    "import hax\n",
    "\n",
    "def hax_init(force_reload = False,\n",
    "             main_data_paths = ['/project2/lgrandi/xenon1t/processed/pax_v6.8.0'],\n",
    "             minitree_paths = ['/scratch/midway2/zhut/data/SingleScatter/data/minitrees',\n",
    "                               '/project2/lgrandi/xenon1t/minitrees/pax_v6.8.0',],\n",
    "            ):\n",
    "    if (not len(hax.config)) or force_reload:\n",
    "        hax.init(experiment = 'XENON1T',\n",
    "                 main_data_paths = main_data_paths,\n",
    "                 minitree_paths = minitree_paths,\n",
    "                 version_policy = 'loose',\n",
    "                 make_minitrees = True,\n",
    "                 minitree_caching = False,\n",
    "                 pax_version_policy = '6.8.0',\n",
    "                 tqdm_on = True,\n",
    "                )\n",
    "\n",
    "hax_init(force_reload = False)"
   ]
  },
  {
   "cell_type": "code",
   "execution_count": 6,
   "metadata": {
    "collapsed": false
   },
   "outputs": [
    {
     "name": "stdout",
     "output_type": "stream",
     "text": [
      "100\n"
     ]
    }
   ],
   "source": [
    "names = [f[:11] for f in os.listdir('/project2/lgrandi/zhut/data/ce/Sciencerun1_None_CE/Elist/') if 'pkl' in f]\n",
    "print(len(names))"
   ]
  },
  {
   "cell_type": "code",
   "execution_count": 7,
   "metadata": {
    "collapsed": false,
    "deletable": true,
    "editable": true
   },
   "outputs": [],
   "source": [
    "from lax.lichens import sciencerun1\n",
    "DAQVeto = sciencerun1.DAQVeto()\n",
    "outdir = '/project2/lgrandi/zhut/data/ce/Sciencerun1_None_CE/Elist'\n",
    "\n",
    "#for ix, run_name in enumerate(dsets.name.values):\n",
    "for ix, run_name in enumerate(names):\n",
    "    \n",
    "    df, _ = hax.minitrees.load_single_dataset(run_name,\n",
    "                                              ['Fundamentals', 'Basics', 'LargestPeakProperties', 'Proximity']\n",
    "                                             )\n",
    "    df = DAQVeto.process(df)\n",
    "    #df = df[df.eval('CutDAQVeto')]\n",
    "    file = '{name}.pkl'.format(name = run_name)\n",
    "    df.to_pickle(os.path.join(outdir, file))\n",
    "    \n",
    "    if ix == 99:\n",
    "        break"
   ]
  },
  {
   "cell_type": "code",
   "execution_count": 66,
   "metadata": {
    "collapsed": false,
    "deletable": true,
    "editable": true
   },
   "outputs": [
    {
     "data": {
      "text/plain": [
       "['nearest_1e5pe_event',\n",
       " 'nearest_1e6pe_event',\n",
       " 'nearest_3e5pe_event',\n",
       " 'nearest_busy',\n",
       " 'nearest_busy_off',\n",
       " 'nearest_busy_on',\n",
       " 'nearest_event',\n",
       " 'nearest_hev',\n",
       " 'nearest_hev_off',\n",
       " 'nearest_hev_on',\n",
       " 'nearest_muon_veto_trigger',\n",
       " 'nearest_s2_area']"
      ]
     },
     "execution_count": 66,
     "metadata": {},
     "output_type": "execute_result"
    }
   ],
   "source": [
    "[c for c in df.columns if 'nearest' in c]"
   ]
  },
  {
   "cell_type": "code",
   "execution_count": null,
   "metadata": {
    "collapsed": true,
    "deletable": true,
    "editable": true
   },
   "outputs": [],
   "source": [
    "'/project2/lgrandi/zhut/data/ce/Sciencerun1_None_CE/Elist /project2/lgrandi/zhut/data/ce/Sciencerun1_None_CE 170202_1747'"
   ]
  }
 ],
 "metadata": {
  "anaconda-cloud": {},
  "kernelspec": {
   "display_name": "Python 3",
   "language": "python",
   "name": "python3"
  },
  "language_info": {
   "codemirror_mode": {
    "name": "ipython",
    "version": 3
   },
   "file_extension": ".py",
   "mimetype": "text/x-python",
   "name": "python",
   "nbconvert_exporter": "python",
   "pygments_lexer": "ipython3",
   "version": "3.4.4"
  }
 },
 "nbformat": 4,
 "nbformat_minor": 1
}
